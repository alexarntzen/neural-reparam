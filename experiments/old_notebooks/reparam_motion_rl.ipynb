{
 "cells": [
  {
   "cell_type": "code",
   "execution_count": null,
   "metadata": {},
   "outputs": [],
   "source": [
    "%load_ext autoreload\n",
    "%autoreload 2"
   ]
  },
  {
   "cell_type": "code",
   "execution_count": null,
   "metadata": {},
   "outputs": [],
   "source": [
    "import os\n",
    "from itertools import chain\n",
    "import torch\n",
    "from torch.utils.data import TensorDataset\n",
    "import matplotlib.pyplot as plt\n",
    "import seaborn as sns\n",
    "import numpy as np\n",
    "import pandas as pd\n",
    "from matplotlib_inline.backend_inline import set_matplotlib_formats\n",
    "\n",
    "set_matplotlib_formats(\"pdf\", \"svg\")\n",
    "\n",
    "from deepthermal.FFNN_model import fit_FFNN, FFNN, init_xavier\n",
    "from deepthermal.validation import (\n",
    "    create_subdictionary_iterator,\n",
    "    k_fold_cv_grid,\n",
    "    add_dictionary_iterators,\n",
    ")\n",
    "from deepthermal.plotting import plot_result\n",
    "\n",
    "import neural_reparam as nr\n",
    "\n",
    "import experiments.curves as c1\n",
    "import experiments.curves_2 as c2\n",
    "from signatureshape.so3.dynamic_distance import (\n",
    "    find_optimal_diffeomorphism,\n",
    "    L2_metric,\n",
    "    local_cost,\n",
    ")\n",
    "\n",
    "# make reproducible\n",
    "seed = torch.manual_seed(0)"
   ]
  },
  {
   "cell_type": "code",
   "execution_count": null,
   "metadata": {},
   "outputs": [],
   "source": [
    "# Load data\n",
    "import sys\n",
    "\n",
    "sys.path.append(\"../../\")\n",
    "from signatureshape.animation.animation_manager import fetch_animations, unpack\n",
    "from signatureshape.so3.curves import move_origin_to_zero, dynamic_distance\n",
    "from signatureshape.so3.helpers import crop_curve\n",
    "from signatureshape.so3.dynamic_distance import (\n",
    "    find_optimal_diffeomorphism,\n",
    "    create_shared_parameterization,\n",
    ")\n",
    "from signatureshape.so3.transformations import skew_to_vector, SRVT\n",
    "from signatureshape.so3 import animation_to_SO3\n",
    "\n",
    "\n",
    "print(\"Load data\")\n",
    "\n",
    "max_frame_count = 300\n",
    "data = [\n",
    "    fetch_animations(1, file_name=\"39_02.amc\"),  # walk 6.5 steps\n",
    "    fetch_animations(1, file_name=\"35_26.amc\"),  # run/jog 3 steps\n",
    "    fetch_animations(1, file_name=\"16_35.amc\"),  # run/jog 3 steps\n",
    "]\n",
    "\n",
    "# walk\n",
    "subject, animation, desc0 = unpack(data[2])\n",
    "curve_full = animation_to_SO3(subject, animation)\n",
    "curve = crop_curve(curve_full, stop=max_frame_count)  # first 2 seconds\n",
    "c_0 = move_origin_to_zero(curve)\n",
    "print(desc0)\n",
    "\n",
    "# run\n",
    "subject, animation, desc1 = unpack(data[1])\n",
    "curve_full = animation_to_SO3(subject, animation)\n",
    "curve = crop_curve(curve_full, stop=max_frame_count)  # first 2 seconds\n",
    "c_1 = move_origin_to_zero(curve)\n",
    "print(desc1)\n",
    "print(c_0.shape)\n",
    "print(c_1.shape)\n",
    "\n",
    "# calculate distances\n",
    "I0 = np.linspace(0, 1, c_0.shape[1])\n",
    "I1 = np.linspace(0, 1, c_1.shape[1])\n",
    "q_data_ = skew_to_vector(SRVT(c_0, I0))\n",
    "r_data_ = skew_to_vector(SRVT(c_1, I1))\n",
    "I, q_data, r_data = create_shared_parameterization(q0=q_data_, q1=r_data_, I0=I0, I1=I1)\n",
    "shared_frames = I.shape[0]"
   ]
  },
  {
   "cell_type": "code",
   "execution_count": null,
   "metadata": {},
   "outputs": [],
   "source": [
    "len(np.argwhere(r_data_[0] == 0))"
   ]
  },
  {
   "cell_type": "code",
   "execution_count": null,
   "metadata": {},
   "outputs": [],
   "source": [
    "len(r_data[0])"
   ]
  },
  {
   "cell_type": "code",
   "execution_count": null,
   "metadata": {},
   "outputs": [],
   "source": [
    "r_data_[120].shape"
   ]
  },
  {
   "cell_type": "code",
   "execution_count": null,
   "metadata": {},
   "outputs": [],
   "source": [
    "# Setup env\n",
    "data = (I, q_data, r_data)\n",
    "N = len(I)\n",
    "depth = int((N) ** (1 / 3))\n",
    "\n",
    "\n",
    "def get_env():\n",
    "    return nr.reparam_env.DiscreteReparamEnv(\n",
    "        data=data, depth=depth, illegal_action_penalty=10\n",
    "    )\n",
    "\n",
    "\n",
    "local_cost_func = lambda start, end: local_cost(*start, *end, q0=q_data, q1=r_data, I=I)\n",
    "N"
   ]
  },
  {
   "cell_type": "code",
   "execution_count": null,
   "metadata": {},
   "outputs": [],
   "source": []
  },
  {
   "cell_type": "code",
   "execution_count": null,
   "metadata": {},
   "outputs": [],
   "source": [
    "#  ######\n",
    "DIR = \"../figures/curve_motion_rl/\"\n",
    "SET_NAME = f\"dqn_4_{get_env().size}\"\n",
    "PATH_FIGURES = os.path.join(DIR, SET_NAME)\n",
    "if not os.path.exists(PATH_FIGURES):\n",
    "    os.makedirs(PATH_FIGURES)\n",
    "########\n",
    "\n",
    "\n",
    "FOLDS = 1\n",
    "# loss_func = get_elastic_metric_loss(r=c1.r, constrain_cost=1e3, verbose=False)\n",
    "# no_penalty_loss_func = get_elastic_metric_loss(r=c1.r, constrain_cost=0, verbose=False)\n",
    "lr_scheduler = lambda optim: torch.optim.lr_scheduler.ReduceLROnPlateau(\n",
    "    optim, mode=\"min\", factor=0.5, patience=100, verbose=True\n",
    ")\n",
    "\n",
    "\n",
    "MODEL_PARAMS = {\n",
    "    \"model\": [FFNN],\n",
    "    \"input_dimension\": [2],\n",
    "    \"output_dimension\": [get_env().num_actions],\n",
    "    \"activation\": [\"relu\"],\n",
    "    \"n_hidden_layers\": [5],\n",
    "}\n",
    "\n",
    "# extend the previous dict with the zip of this\n",
    "MODEL_PARAMS_EXPERIMENT = {\n",
    "    \"neurons\": [32],\n",
    "}\n",
    "TRAINING_PARAMS = {\n",
    "    \"get_env\": [get_env],\n",
    "    \"batch_size\": [1000],\n",
    "    \"initial_steps\": [int(3e4)],\n",
    "    \"memory_size\": [int(1e5)],\n",
    "    \"update_every\": [N],\n",
    "    \"DDQN\": [True],\n",
    "    \"num_epochs\": [2 * N],\n",
    "    \"verbose_interval\": [20],\n",
    "    \"learning_rate\": [0.01],\n",
    "    \"optimizer\": [\"ADAM\"],\n",
    "}\n",
    "# extend the previous dict with the zip of this\n",
    "TRAINING_PARAMS_EXPERIMENT = {\n",
    "    \"epsilon\": [0.01],\n",
    "    # \"lr_scheduler\": [lr_scheduler],\n",
    "}"
   ]
  },
  {
   "cell_type": "code",
   "execution_count": null,
   "metadata": {},
   "outputs": [],
   "source": [
    "# create iterators\n",
    "model_params_iter_1 = create_subdictionary_iterator(MODEL_PARAMS)\n",
    "# model_params_iter = chain.from_iterable((model_params_iter_1, model_params_iter_2))\n",
    "\n",
    "model_exp_iter = create_subdictionary_iterator(MODEL_PARAMS_EXPERIMENT, product=False)\n",
    "exp_model_params_iter = add_dictionary_iterators(model_exp_iter, model_params_iter_1)\n",
    "\n",
    "training_params_iter = create_subdictionary_iterator(TRAINING_PARAMS)\n",
    "training_exp_iter = create_subdictionary_iterator(\n",
    "    TRAINING_PARAMS_EXPERIMENT, product=False\n",
    ")\n",
    "exp_training_params_iter = add_dictionary_iterators(\n",
    "    training_exp_iter, training_params_iter\n",
    ")"
   ]
  },
  {
   "cell_type": "markdown",
   "metadata": {},
   "source": [
    "Do the actual training"
   ]
  },
  {
   "cell_type": "code",
   "execution_count": null,
   "metadata": {},
   "outputs": [],
   "source": [
    "cv_results = k_fold_cv_grid(\n",
    "    model_params=exp_model_params_iter,\n",
    "    fit=nr.rl.fit_dqn_deterministic,\n",
    "    training_params=exp_training_params_iter,\n",
    "    data=data,\n",
    "    folds=FOLDS,\n",
    "    verbose=True,\n",
    "    trials=1,\n",
    ")"
   ]
  },
  {
   "cell_type": "code",
   "execution_count": null,
   "metadata": {},
   "outputs": [],
   "source": [
    "# Find DP solution\n",
    "I1_new = find_optimal_diffeomorphism(q0=q_data, q1=r_data, I0=I, I1=I, depth=depth)\n",
    "path = np.stack((I, I1_new), axis=-1)\n",
    "\n",
    "dp_distance = nr.rl.get_path_value(\n",
    "    path=path, env=nr.reparam_env.RealReparamEnv(data=data)\n",
    ")\n",
    "c2.DIST_R_Q, dp_distance"
   ]
  },
  {
   "cell_type": "code",
   "execution_count": null,
   "metadata": {},
   "outputs": [],
   "source": [
    "model = cv_results[\"models\"][0][0]\n",
    "plot_kwargs = {\n",
    "    \"env\": get_env(),\n",
    "    \"x_train\": I,\n",
    "    \"y_train\": I1_new,\n",
    "    \"x_axis\": \"t\",\n",
    "    \"y_axis\": \"$\\\\varphi(t)$\",\n",
    "    \"compare_label\": \"DP solution\",\n",
    "}\n",
    "plot_result(\n",
    "    path_figures=PATH_FIGURES,\n",
    "    plot_function=nr.plot_solution_rl,\n",
    "    function_kwargs=plot_kwargs,\n",
    "    **cv_results\n",
    ")\n",
    "q_path = nr.rl.get_optimal_path(model=model, env=get_env())\n",
    "#\n",
    "# q_distance =  nr.rl.get_path_value(path=q_path, cost_func=local_cost_func)\n",
    "# q_distance\n",
    "# function_kwargs=plot_kwargs,"
   ]
  },
  {
   "cell_type": "code",
   "execution_count": null,
   "metadata": {},
   "outputs": [],
   "source": [
    "# N=1fromfrom6\n",
    "# s = (N,N,2)\n",
    "# test = torch.arange(np.prod(s)).reshape(s) % 5\n",
    "# ind = torch.tensor(np.indices((N, N)).T)\n",
    "# x_train2 = torch.linspace(0,1 , N, requires_grad=True)\n",
    "# x_train2[ind]\n",
    "plt.plot(q_path[:, 0], q_path[:, 1])\n",
    "plt.show()"
   ]
  },
  {
   "cell_type": "code",
   "execution_count": null,
   "metadata": {},
   "outputs": [],
   "source": []
  },
  {
   "cell_type": "markdown",
   "metadata": {},
   "source": []
  },
  {
   "cell_type": "code",
   "execution_count": null,
   "metadata": {},
   "outputs": [],
   "source": [
    "test_path = np.array([[0, 0], [2, 1], [3, 5], [6, 6], [9, 10], [14, 13], [15, 15]])\n",
    "q_distance = nr.rl.get_path_value(path=test_path, cost_func=local_cost_func)\n",
    "q_distance"
   ]
  },
  {
   "cell_type": "code",
   "execution_count": null,
   "metadata": {},
   "outputs": [],
   "source": []
  },
  {
   "cell_type": "code",
   "execution_count": null,
   "metadata": {},
   "outputs": [],
   "source": []
  }
 ],
 "metadata": {
  "kernelspec": {
   "display_name": "Python 3",
   "language": "python",
   "name": "python3"
  },
  "language_info": {
   "codemirror_mode": {
    "name": "ipython",
    "version": 3
   },
   "file_extension": ".py",
   "mimetype": "text/x-python",
   "name": "python",
   "nbconvert_exporter": "python",
   "pygments_lexer": "ipython3"
  }
 },
 "nbformat": 4,
 "nbformat_minor": 1
}
