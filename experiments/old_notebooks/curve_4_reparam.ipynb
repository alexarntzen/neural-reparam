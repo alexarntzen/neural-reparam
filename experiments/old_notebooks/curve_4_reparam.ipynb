{
 "cells": [
  {
   "cell_type": "markdown",
   "source": [
    "Try to learn the inverse of (2)\n",
    "\n",
    "Not used"
   ],
   "metadata": {
    "collapsed": false
   }
  },
  {
   "cell_type": "code",
   "execution_count": null,
   "outputs": [],
   "source": [
    "%load_ext autoreload\n",
    "%autoreload 2"
   ],
   "metadata": {
    "collapsed": false,
    "pycharm": {
     "name": "#%%\n"
    }
   }
  },
  {
   "cell_type": "code",
   "execution_count": null,
   "metadata": {
    "collapsed": true,
    "pycharm": {
     "name": "#%%\n"
    }
   },
   "outputs": [],
   "source": [
    "import torch\n",
    "from torch.utils.data import TensorDataset\n",
    "torch.set_default_dtype(torch.float64)\n",
    "import matplotlib.pyplot as plt\n",
    "from deepthermal.FFNN_model import fit_FFNN, FFNN, init_xavier\n",
    "from deepthermal.validation import create_subdictionary_iterator, k_fold_cv_grid\n",
    "\n",
    "from deepthermal.plotting import plot_result, plot_model_1d\n",
    "\n",
    "from deep_reparametrization.plotting import plot_reparametrization\n",
    "from deep_reparametrization.reparametrization import (\n",
    "    get_elastic_metric_loss,\n",
    "    compute_loss_reparam,\n",
    "    get_elastic_error_func,\n",
    ")\n",
    "from deep_reparametrization.ResNet import ResNet\n",
    "import experiments.curves_2 as tc2"
   ]
  },
  {
   "cell_type": "code",
   "execution_count": null,
   "outputs": [],
   "source": [
    "########\n",
    "PATH_FIGURES = \"../figures/curve_3\"\n",
    "########\n",
    "\n",
    "SET_NAME = \"16_curve_2_tanh\"\n",
    "\n",
    "FOLDS = 1\n",
    "N =  256 # training points internal\n",
    "\n",
    "MODEL_PARAMS = {\n",
    "    \"model\": [ResNet],\n",
    "    \"input_dimension\": [1],\n",
    "    \"output_dimension\": [1],\n",
    "    \"n_hidden_layers\": [5],\n",
    "    \"neurons\": [20],\n",
    "    \"activation\": [\"relu\"],\n",
    "}\n",
    "TRAINING_PARAMS = {\n",
    "    \"num_epochs\": [1],\n",
    "    \"batch_size\": [N],\n",
    "    \"regularization_param\": [1e-9],\n",
    "    \"optimizer\": [\"strong_wolfe\"],\n",
    "    \"learning_rate\": [0.0001],\n",
    "    \"compute_loss\": [compute_loss_reparam],\n",
    "    \"loss_func\": [get_elastic_metric_loss(r = tc2.q, constrain_cost=5e3, verbose=False)],\n",
    "}"
   ],
   "metadata": {
    "collapsed": false,
    "pycharm": {
     "name": "#%%\n"
    }
   }
  },
  {
   "cell_type": "code",
   "execution_count": null,
   "outputs": [],
   "source": [
    "# Load data\n",
    "x_train = torch.linspace(0,1,N, requires_grad=True).unsqueeze(1)\n",
    "y_train = tc2.r(x_train.detach())\n",
    "\n",
    "x_val = torch.linspace(0, 1, N, requires_grad=True).unsqueeze(1)\n",
    "y_val = tc2.r(x_val.detach())\n",
    "\n",
    "data = TensorDataset(x_train, y_train)\n",
    "data_val = TensorDataset(x_val, y_val)\n",
    "\n",
    "model_params_iter = create_subdictionary_iterator(MODEL_PARAMS)\n",
    "training_params_iter = create_subdictionary_iterator(TRAINING_PARAMS)"
   ],
   "metadata": {
    "collapsed": false,
    "pycharm": {
     "name": "#%%\n"
    }
   }
  },
  {
   "cell_type": "markdown",
   "source": [
    "Do the actual training"
   ],
   "metadata": {
    "collapsed": false,
    "pycharm": {
     "name": "#%% md\n"
    }
   }
  },
  {
   "cell_type": "code",
   "execution_count": null,
   "outputs": [],
   "source": [
    "cv_results = k_fold_cv_grid(\n",
    "    model_params=model_params_iter,\n",
    "    fit=fit_FFNN,\n",
    "    training_params=training_params_iter,\n",
    "    data=data,\n",
    "    val_data=data_val,\n",
    "    folds=FOLDS,\n",
    "    verbose=True,\n",
    "    get_error=get_elastic_error_func(r=tc2.q, true_dist=tc2.DIST_R_Q),\n",
    ")"
   ],
   "metadata": {
    "collapsed": false,
    "pycharm": {
     "name": "#%%\n"
    }
   }
  },
  {
   "cell_type": "code",
   "execution_count": null,
   "outputs": [],
   "source": [
    "# plotting\n",
    "x_train_ = x_train.detach()\n",
    "x_sorted, indices = torch.sort(x_train_, dim=0)\n",
    "\n",
    "plot_kwargs = {\n",
    "    \"x_test\" : x_sorted,\n",
    "    \"y_train\": x_sorted,\n",
    "    \"x_train\": tc2.ksi(x_sorted),\n",
    "    \"x_axis\": \"t\",\n",
    "    \"y_axis\": \"$\\\\xi(t)$\",\n",
    "}\n",
    "plot_result(\n",
    "    path_figures=PATH_FIGURES,\n",
    "    plot_name=SET_NAME,\n",
    "    **cv_results,\n",
    "    plot_function=plot_model_1d,\n",
    "    function_kwargs=plot_kwargs,\n",
    "    trials=5\n",
    ")"
   ],
   "metadata": {
    "collapsed": false,
    "pycharm": {
     "name": "#%%\n"
    }
   }
  },
  {
   "cell_type": "code",
   "execution_count": null,
   "outputs": [],
   "source": [
    "from torch.nn.functional import mse_loss\n",
    "ksi_eval = tc2.ksi(x_val)\n",
    "from torch import autograd\n",
    "from torch.nn.functional import mse_loss\n",
    "\n",
    "plt.plot(ksi_eval.detach(), x_val.detach() )\n",
    "plt.show()\n",
    "#\n",
    "# dist_func= get_elastic_error_func(r=tc2.q, true_dist=tc2.DIST_R_Q)\n",
    "# data_new= TensorDataset(x_val,tc2.q(x_val))\n",
    "# dist = dist_func(model=tc2.ksi, data= data_new)\n",
    "# dist.item()"
   ],
   "metadata": {
    "collapsed": false,
    "pycharm": {
     "name": "#%%\n"
    }
   }
  },
  {
   "cell_type": "code",
   "execution_count": null,
   "outputs": [],
   "source": [
    "ksi_x = tc2.ksi(x_val)\n",
    "ksi_ksi_x = tc2.ksi(ksi_x)\n",
    "dksi_dksi_x = autograd.grad(ksi_ksi_x.sum(), ksi_x)[0]\n",
    "dksi_inv_dx = 1/dksi_dksi_x\n",
    "# mse_loss(tc2.r, tc2.q(ksi_x))\n",
    "plt.plot(x_val.detach()[100:-100],1/dksi_dksi_x.detach()[100:-100])\n",
    "# plt.plot(ksi_x[::10].detach(), torch.ones_like(ksi_ksi_x[::10]), \"*\")\n",
    "plt.show()\n",
    "1/dksi_dksi_x.detach()[:20]\n"
   ],
   "metadata": {
    "collapsed": false,
    "pycharm": {
     "name": "#%%\n"
    }
   }
  },
  {
   "cell_type": "code",
   "execution_count": null,
   "outputs": [],
   "source": [],
   "metadata": {
    "collapsed": false,
    "pycharm": {
     "name": "#%%\n"
    }
   }
  }
 ],
 "metadata": {
  "kernelspec": {
   "display_name": "Python 3",
   "language": "python",
   "name": "python3"
  },
  "language_info": {
   "codemirror_mode": {
    "name": "ipython",
    "version": 2
   },
   "file_extension": ".py",
   "mimetype": "text/x-python",
   "name": "python",
   "nbconvert_exporter": "python",
   "pygments_lexer": "ipython2",
   "version": "2.7.6"
  }
 },
 "nbformat": 4,
 "nbformat_minor": 0
}