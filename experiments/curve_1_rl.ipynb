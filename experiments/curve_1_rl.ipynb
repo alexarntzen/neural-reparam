{
 "cells": [
  {
   "cell_type": "code",
   "execution_count": null,
   "metadata": {},
   "outputs": [],
   "source": [
    "%load_ext autoreload\n",
    "%autoreload 2"
   ]
  },
  {
   "cell_type": "code",
   "execution_count": null,
   "metadata": {},
   "outputs": [],
   "source": [
    "import os\n",
    "from itertools import chain\n",
    "import torch\n",
    "from torch.utils.data import TensorDataset\n",
    "import matplotlib.pyplot as plt\n",
    "import seaborn as sns\n",
    "import numpy as np\n",
    "import pandas as pd\n",
    "from matplotlib_inline.backend_inline import set_matplotlib_formats\n",
    "\n",
    "set_matplotlib_formats(\"pdf\", \"svg\")\n",
    "\n",
    "from deepthermal.FFNN_model import fit_FFNN, FFNN, init_xavier\n",
    "from deepthermal.validation import (\n",
    "    create_subdictionary_iterator,\n",
    "    k_fold_cv_grid,\n",
    "    add_dictionary_iterators,\n",
    ")\n",
    "from deepthermal.plotting import plot_result\n",
    "\n",
    "from neural_reparam.ResNet import ResNet\n",
    "from neural_reparam.models import ResCNN, BResCNN, CNN\n",
    "from neural_reparam.reparam_env import (\n",
    "    DiscreteReparamEnv,\n",
    "    DiscreteReparamReverseEnv,\n",
    ")\n",
    "from neural_reparam.reinforcement_learning import fit_dqn_deterministic\n",
    "from neural_reparam.plotting import plot_solution_rl\n",
    "\n",
    "import experiments.curves as c1\n",
    "from signatureshape.so3.dynamic_distance import find_optimal_diffeomorphism\n",
    "\n",
    "# make reproducible\n",
    "seed = torch.manual_seed(0)"
   ]
  },
  {
   "cell_type": "code",
   "execution_count": null,
   "metadata": {},
   "outputs": [],
   "source": [
    "# Load data\n",
    "N = 16\n",
    "\n",
    "x_train = np.linspace(0, 1, N)\n",
    "q_train = c1.q(x_train)\n",
    "r_train = c1.r(x_train)\n",
    "\n",
    "data = (x_train, q_train, r_train)"
   ]
  },
  {
   "cell_type": "code",
   "execution_count": null,
   "metadata": {},
   "outputs": [],
   "source": [
    "0  ######\n",
    "DIR = \"../figures/curve_1_rl/\"\n",
    "SET_NAME = f\"dqn_2_{N}\"\n",
    "PATH_FIGURES = os.path.join(DIR, SET_NAME)\n",
    "if not os.path.exists(PATH_FIGURES):\n",
    "    os.makedirs(PATH_FIGURES)\n",
    "########\n",
    "\n",
    "\n",
    "FOLDS = 1\n",
    "# loss_func = get_elastic_metric_loss(r=c1.r, constrain_cost=1e3, verbose=False)\n",
    "# no_penalty_loss_func = get_elastic_metric_loss(r=c1.r, constrain_cost=0, verbose=False)\n",
    "depth = 4\n",
    "lr_scheduler = lambda optim: torch.optim.lr_scheduler.ReduceLROnPlateau(\n",
    "    optim, mode=\"min\", factor=0.5, patience=5000, verbose=True\n",
    ")\n",
    "\n",
    "\n",
    "def get_env():\n",
    "    return DiscreteReparamEnv(r_func=c1.r, q_func=c1.q, size=N, depth=depth)\n",
    "\n",
    "\n",
    "MODEL_PARAMS = {\n",
    "    \"model\": [FFNN],\n",
    "    \"input_dimension\": [2],\n",
    "    \"output_dimension\": [get_env().num_actions],\n",
    "    \"activation\": [\"relu\"],\n",
    "    \"n_hidden_layers\": [2],\n",
    "}\n",
    "\n",
    "# extend the previous dict with the zip of this\n",
    "MODEL_PARAMS_EXPERIMENT = {\n",
    "    \"neurons\": [32],\n",
    "}\n",
    "TRAINING_PARAMS = {\n",
    "    \"get_env\": [get_env],\n",
    "    \"batch_size\": [200],\n",
    "    \"epsilon\": [0.01],\n",
    "    \"initial_steps\": [int(1e4)],\n",
    "    \"memory_size\": [int(1e5)],\n",
    "    \"DDQN\": [False],\n",
    "    \"update_every\": [10],\n",
    "}\n",
    "# extend the previous dict with the zip of this\n",
    "TRAINING_PARAMS_EXPERIMENT = {\n",
    "    \"optimizer\": [\"ADAM\"],\n",
    "    \"num_epochs\": [5000],\n",
    "    \"verbose_interval\": [500],\n",
    "    \"learning_rate\": [0.01],\n",
    "    \"lr_scheduler\": [lr_scheduler],\n",
    "}"
   ]
  },
  {
   "cell_type": "code",
   "execution_count": null,
   "metadata": {},
   "outputs": [],
   "source": []
  },
  {
   "cell_type": "code",
   "execution_count": null,
   "metadata": {},
   "outputs": [],
   "source": [
    "# create iterators\n",
    "model_params_iter_1 = create_subdictionary_iterator(MODEL_PARAMS)\n",
    "# model_params_iter = chain.from_iterable((model_params_iter_1, model_params_iter_2))\n",
    "\n",
    "model_exp_iter = create_subdictionary_iterator(MODEL_PARAMS_EXPERIMENT, product=False)\n",
    "exp_model_params_iter = add_dictionary_iterators(model_exp_iter, model_params_iter_1)\n",
    "\n",
    "training_params_iter = create_subdictionary_iterator(TRAINING_PARAMS)\n",
    "training_exp_iter = create_subdictionary_iterator(\n",
    "    TRAINING_PARAMS_EXPERIMENT, product=False\n",
    ")\n",
    "exp_training_params_iter = add_dictionary_iterators(\n",
    "    training_exp_iter, training_params_iter\n",
    ")"
   ]
  },
  {
   "cell_type": "markdown",
   "metadata": {},
   "source": [
    "Do the actual training"
   ]
  },
  {
   "cell_type": "code",
   "execution_count": null,
   "metadata": {},
   "outputs": [],
   "source": [
    "cv_results = k_fold_cv_grid(\n",
    "    model_params=exp_model_params_iter,\n",
    "    fit=fit_dqn_deterministic,\n",
    "    training_params=exp_training_params_iter,\n",
    "    data=data,\n",
    "    folds=FOLDS,\n",
    "    verbose=True,\n",
    "    trials=1,\n",
    ")"
   ]
  },
  {
   "cell_type": "code",
   "execution_count": null,
   "metadata": {},
   "outputs": [],
   "source": [
    "# Find DP solution\n",
    "\n",
    "# with torch.no_grad():\n",
    "#     I1_new = find_optimal_diffeomorphism(\n",
    "#         q0=q_train, q1=r_train, I0=x_train, I1=x_train, depth=depth\n",
    "#     )"
   ]
  },
  {
   "cell_type": "code",
   "execution_count": null,
   "metadata": {},
   "outputs": [],
   "source": [
    "model = (cv_results[\"models\"][0][0],)\n",
    "# plot_kwargs = {\n",
    "#     \"env\": get_env(),\n",
    "#     \"x_train\": x_train,\n",
    "#     \"y_train\": I1_new,\n",
    "#     \"x_axis\": \"t\",\n",
    "#     \"y_axis\": \"$\\\\varphi(t)$\",\n",
    "#     \"compare_label\": \"DP solution\",\n",
    "# }\n",
    "plot_result(path_figures=PATH_FIGURES, **cv_results)\n",
    "\n",
    "# plot_function=plot_solution_rl,\n",
    "# function_kwargs=plot_kwargs,"
   ]
  },
  {
   "cell_type": "code",
   "execution_count": null,
   "metadata": {},
   "outputs": [],
   "source": [
    "# N=16\n",
    "# s = (N,N,2)\n",
    "# test = torch.arange(np.prod(s)).reshape(s) % 5\n",
    "# ind = torch.tensor(np.indices((N, N)).T)\n",
    "# x_train2 = torch.linspace(0,1 , N, requires_grad=True)\n",
    "# x_train2[ind]"
   ]
  },
  {
   "cell_type": "markdown",
   "metadata": {},
   "source": []
  }
 ],
 "metadata": {
  "kernelspec": {
   "display_name": "Python 3",
   "language": "python",
   "name": "python3"
  },
  "language_info": {
   "codemirror_mode": {
    "name": "ipython",
    "version": 3
   },
   "file_extension": ".py",
   "mimetype": "text/x-python",
   "name": "python",
   "nbconvert_exporter": "python",
   "pygments_lexer": "ipython3"
  }
 },
 "nbformat": 4,
 "nbformat_minor": 1
}
