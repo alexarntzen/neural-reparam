{
 "cells": [
  {
   "cell_type": "code",
   "execution_count": 209,
   "metadata": {
    "pycharm": {
     "name": "#%%\n"
    }
   },
   "outputs": [
    {
     "name": "stdout",
     "output_type": "stream",
     "text": [
      "The autoreload extension is already loaded. To reload it, use:\n",
      "  %reload_ext autoreload\n"
     ]
    }
   ],
   "source": [
    "%load_ext autoreload\n",
    "%autoreload 2"
   ]
  },
  {
   "cell_type": "code",
   "execution_count": 210,
   "metadata": {
    "collapsed": true,
    "pycharm": {
     "name": "#%%\n"
    }
   },
   "outputs": [],
   "source": [
    "import os\n",
    "from itertools import chain\n",
    "import torch\n",
    "from torch.utils.data import TensorDataset\n",
    "import matplotlib.pyplot as plt\n",
    "import seaborn as sns\n",
    "import numpy as np\n",
    "import pandas as pd\n",
    "from matplotlib_inline.backend_inline import set_matplotlib_formats\n",
    "\n",
    "set_matplotlib_formats('pdf', 'svg')\n",
    "\n",
    "from deepthermal.FFNN_model import fit_FFNN, FFNN, init_xavier\n",
    "from deepthermal.validation import create_subdictionary_iterator, k_fold_cv_grid, add_dictionary_iterators\n",
    "from deepthermal.plotting import plot_result, plot_model_1d\n",
    "\n",
    "from neural_reparam.reparametrization import (\n",
    "    get_elastic_metric_loss,\n",
    "    compute_loss_reparam,\n",
    ")\n",
    "from neural_reparam.ResNet import ResNet\n",
    "from neural_reparam.models import ResCNN, BResCNN, CNN\n",
    "from neural_reparam.reinforcement_learning import fit_dqn_deterministic, get_state, is_end_state, get_epsilon_greedy, get_action_map\n",
    "import experiments.curves as c1\n",
    "\n",
    "# make reproducible\n",
    "seed = torch.manual_seed(0)"
   ]
  },
  {
   "cell_type": "code",
   "execution_count": 211,
   "outputs": [],
   "source": [
    "# Load data\n",
    "N = 128\n",
    "\n",
    "x_train = torch.linspace(0, 1, N, requires_grad=True)\n",
    "q_train = c1.q(x_train.unsqueeze(1).detach())\n",
    "r_train = c1.r(x_train.unsqueeze(1).detach())\n",
    "\n",
    "data = TensorDataset(x_train, q_train, r_train)\n"
   ],
   "metadata": {
    "collapsed": false,
    "pycharm": {
     "name": "#%%\n"
    }
   }
  },
  {
   "cell_type": "code",
   "execution_count": 212,
   "outputs": [],
   "source": [
    "########\n",
    "DIR = \"../figures/curve_1/\"\n",
    "SET_NAME = \"conv_3\"\n",
    "PATH_FIGURES = os.path.join(DIR, SET_NAME)\n",
    "if not os.path.exists(PATH_FIGURES):\n",
    "    os.makedirs(PATH_FIGURES)\n",
    "########\n",
    "\n",
    "\n",
    "FOLDS = 1\n",
    "# loss_func = get_elastic_metric_loss(r=c1.r, constrain_cost=1e3, verbose=False)\n",
    "# no_penalty_loss_func = get_elastic_metric_loss(r=c1.r, constrain_cost=0, verbose=False)\n",
    "depth = 5\n",
    "num_actions = depth ** 2\n",
    "MODEL_PARAMS = {\n",
    "    \"model\": [FFNN],\n",
    "    \"input_dimension\": [2],\n",
    "    \"output_dimension\": [num_actions],\n",
    "    \"activation\": [\"tanh\"],\n",
    "    \"n_hidden_layers\": [2],\n",
    "}\n",
    "\n",
    "# extend the previous dict with the zip of this\n",
    "MODEL_PARAMS_EXPERIMENT = {\n",
    "    \"neurons\": [8, 8],\n",
    "}\n",
    "TRAINING_PARAMS = {\n",
    "    \"start_state_index\": [torch.LongTensor([0, 0])],\n",
    "    \"get_state\": [get_state],\n",
    "    \"choose_action\": [get_epsilon_greedy(epsilon=0.1, num_actions=num_actions)],\n",
    "    \"action_map\": [get_action_map(depth=depth, data=data)],\n",
    "    \"is_end_state\": [is_end_state],\n",
    "}\n",
    "# extend the previous dict with the zip of this\n",
    "TRAINING_PARAMS_EXPERIMENT = {\n",
    "    \"optimizer\": [\"strong_wolfe\"],\n",
    "    \"num_epochs\": [10],\n",
    "    \"learning_rate\": [0.1],\n",
    "}"
   ],
   "metadata": {
    "collapsed": false,
    "pycharm": {
     "name": "#%%\n"
    }
   }
  },
  {
   "cell_type": "code",
   "execution_count": 213,
   "outputs": [],
   "source": [
    "# create iterators\n",
    "model_params_iter_1 = create_subdictionary_iterator(MODEL_PARAMS)\n",
    "# model_params_iter = chain.from_iterable((model_params_iter_1, model_params_iter_2))\n",
    "\n",
    "model_exp_iter = create_subdictionary_iterator(MODEL_PARAMS_EXPERIMENT, product=False)\n",
    "exp_model_params_iter = add_dictionary_iterators(model_exp_iter, model_params_iter_1)\n",
    "\n",
    "training_params_iter = create_subdictionary_iterator(TRAINING_PARAMS)\n",
    "training_exp_iter = create_subdictionary_iterator(TRAINING_PARAMS_EXPERIMENT, product=False)\n",
    "exp_training_params_iter = add_dictionary_iterators(training_exp_iter, training_params_iter)"
   ],
   "metadata": {
    "collapsed": false,
    "pycharm": {
     "name": "#%%\n"
    }
   }
  },
  {
   "cell_type": "markdown",
   "metadata": {},
   "source": [
    "Do the actual training"
   ]
  },
  {
   "cell_type": "code",
   "execution_count": 214,
   "metadata": {
    "pycharm": {
     "name": "#%%\n"
    }
   },
   "outputs": [
    {
     "name": "stdout",
     "output_type": "stream",
     "text": [
      "\n",
      "Running model (trial=0, mod=0, k=0):\n",
      "Parameters: ({'model': <class 'deepthermal.FFNN_model.FFNN'>, 'input_dimension': 2, 'output_dimension': 25, 'activation': 'tanh', 'n_hidden_layers': 2, 'neurons': 8}, {'start_state_index': tensor([0, 0]), 'get_state': <function get_state at 0x12ffea5e0>, 'choose_action': <function get_epsilon_greedy.<locals>.epsilon_greedy at 0x130017310>, 'action_map': <function get_action_map.<locals>.action_map at 0x130017af0>, 'is_end_state': <function is_end_state at 0x12ffea4c0>, 'optimizer': 'strong_wolfe', 'num_epochs': 10, 'learning_rate': 0.1})\n",
      "################################  0  ################################\n",
      "tensor([0, 0]) tensor([4, 0])\n",
      "indexdiff: tensor([5, 1])\n",
      "indexdiff: tensor([5, 1])\n",
      "indexdiff: tensor([5, 1])\n",
      "indexdiff: tensor([5, 1])\n",
      "indexdiff: tensor([5, 1])\n",
      "indexdiff: tensor([5, 1])\n",
      "indexdiff: tensor([5, 1])\n",
      "indexdiff: tensor([5, 1])\n",
      "indexdiff: tensor([5, 1])\n",
      "indexdiff: tensor([5, 1])\n",
      "indexdiff: tensor([5, 1])\n",
      "indexdiff: tensor([5, 1])\n",
      "indexdiff: tensor([5, 1])\n",
      "indexdiff: tensor([5, 1])\n",
      "indexdiff: tensor([5, 1])\n",
      "indexdiff: tensor([5, 1])\n",
      "indexdiff: tensor([5, 1])\n",
      "indexdiff: tensor([5, 1])\n",
      "indexdiff: tensor([5, 1])\n",
      "indexdiff: tensor([5, 1])\n",
      "indexdiff: tensor([5, 1])\n",
      "indexdiff: tensor([5, 1])\n",
      "indexdiff: tensor([5, 1])\n",
      "indexdiff: tensor([5, 1])\n",
      "indexdiff: tensor([5, 1])\n",
      "indexdiff: tensor([5, 1])\n",
      "tensor([4, 0]) tensor([8, 0])\n",
      "indexdiff: tensor([5, 1])\n",
      "indexdiff: tensor([5, 1])\n",
      "indexdiff: tensor([5, 1])\n",
      "indexdiff: tensor([5, 1])\n",
      "indexdiff: tensor([5, 1])\n",
      "indexdiff: tensor([5, 1])\n",
      "indexdiff: tensor([5, 1])\n",
      "indexdiff: tensor([5, 1])\n",
      "indexdiff: tensor([5, 1])\n",
      "indexdiff: tensor([5, 1])\n",
      "indexdiff: tensor([5, 1])\n",
      "indexdiff: tensor([5, 1])\n",
      "indexdiff: tensor([5, 1])\n",
      "indexdiff: tensor([5, 1])\n",
      "indexdiff: tensor([5, 1])\n",
      "indexdiff: tensor([5, 1])\n",
      "indexdiff: tensor([5, 1])\n",
      "indexdiff: tensor([5, 1])\n",
      "indexdiff: tensor([5, 1])\n",
      "indexdiff: tensor([5, 1])\n",
      "indexdiff: tensor([5, 1])\n",
      "indexdiff: tensor([5, 1])\n",
      "indexdiff: tensor([5, 1])\n",
      "tensor([8, 0]) tensor([12,  0])\n",
      "indexdiff: tensor([5, 1])\n",
      "indexdiff: tensor([5, 1])\n",
      "indexdiff: tensor([5, 1])\n",
      "indexdiff: tensor([5, 1])\n",
      "indexdiff: tensor([5, 1])\n",
      "indexdiff: tensor([5, 1])\n",
      "indexdiff: tensor([5, 1])\n",
      "indexdiff: tensor([5, 1])\n",
      "indexdiff: tensor([5, 1])\n",
      "indexdiff: tensor([5, 1])\n",
      "indexdiff: tensor([5, 1])\n",
      "indexdiff: tensor([5, 1])\n",
      "indexdiff: tensor([5, 1])\n",
      "tensor([12,  0]) tensor([16,  0])\n",
      "indexdiff: tensor([5, 1])\n",
      "indexdiff: tensor([5, 1])\n",
      "indexdiff: tensor([5, 1])\n",
      "indexdiff: tensor([5, 1])\n",
      "indexdiff: tensor([5, 1])\n",
      "indexdiff: tensor([5, 1])\n",
      "indexdiff: tensor([5, 1])\n",
      "indexdiff: tensor([5, 1])\n",
      "indexdiff: tensor([5, 1])\n",
      "indexdiff: tensor([5, 1])\n",
      "indexdiff: tensor([5, 1])\n",
      "indexdiff: tensor([5, 1])\n",
      "indexdiff: tensor([5, 1])\n",
      "tensor([16,  0]) tensor([20,  0])\n",
      "indexdiff: tensor([5, 1])\n",
      "indexdiff: tensor([5, 1])\n",
      "indexdiff: tensor([5, 1])\n",
      "indexdiff: tensor([5, 1])\n",
      "indexdiff: tensor([5, 1])\n",
      "indexdiff: tensor([5, 1])\n",
      "indexdiff: tensor([5, 1])\n",
      "indexdiff: tensor([5, 1])\n",
      "indexdiff: tensor([5, 1])\n",
      "indexdiff: tensor([5, 1])\n",
      "indexdiff: tensor([5, 1])\n",
      "indexdiff: tensor([5, 1])\n",
      "indexdiff: tensor([5, 1])\n",
      "indexdiff: tensor([5, 1])\n",
      "indexdiff: tensor([5, 1])\n",
      "indexdiff: tensor([5, 1])\n",
      "indexdiff: tensor([5, 1])\n",
      "indexdiff: tensor([5, 1])\n",
      "indexdiff: tensor([5, 1])\n",
      "indexdiff: tensor([5, 1])\n",
      "indexdiff: tensor([5, 1])\n",
      "indexdiff: tensor([5, 1])\n",
      "indexdiff: tensor([5, 1])\n",
      "indexdiff: tensor([5, 1])\n",
      "indexdiff: tensor([5, 1])\n",
      "indexdiff: tensor([5, 1])\n",
      "indexdiff: tensor([5, 1])\n",
      "indexdiff: tensor([5, 1])\n",
      "indexdiff: tensor([5, 1])\n",
      "indexdiff: tensor([5, 1])\n",
      "indexdiff: tensor([5, 1])\n",
      "indexdiff: tensor([5, 1])\n",
      "indexdiff: tensor([5, 1])\n",
      "indexdiff: tensor([5, 1])\n",
      "indexdiff: tensor([5, 1])\n",
      "indexdiff: tensor([5, 1])\n",
      "indexdiff: tensor([5, 1])\n",
      "indexdiff: tensor([5, 1])\n",
      "indexdiff: tensor([5, 1])\n",
      "tensor([20,  0]) tensor([24,  0])\n",
      "indexdiff: tensor([5, 1])\n",
      "indexdiff: tensor([5, 1])\n",
      "indexdiff: tensor([5, 1])\n",
      "indexdiff: tensor([5, 1])\n",
      "indexdiff: tensor([5, 1])\n",
      "indexdiff: tensor([5, 1])\n",
      "indexdiff: tensor([5, 1])\n",
      "indexdiff: tensor([5, 1])\n",
      "indexdiff: tensor([5, 1])\n",
      "indexdiff: tensor([5, 1])\n",
      "indexdiff: tensor([5, 1])\n",
      "indexdiff: tensor([5, 1])\n",
      "indexdiff: tensor([5, 1])\n",
      "indexdiff: tensor([5, 1])\n",
      "indexdiff: tensor([5, 1])\n",
      "indexdiff: tensor([5, 1])\n",
      "indexdiff: tensor([5, 1])\n",
      "indexdiff: tensor([5, 1])\n",
      "indexdiff: tensor([5, 1])\n",
      "indexdiff: tensor([5, 1])\n",
      "indexdiff: tensor([5, 1])\n",
      "indexdiff: tensor([5, 1])\n",
      "indexdiff: tensor([5, 1])\n",
      "indexdiff: tensor([5, 1])\n",
      "indexdiff: tensor([5, 1])\n",
      "indexdiff: tensor([5, 1])\n",
      "tensor([24,  0]) tensor([28,  0])\n",
      "indexdiff: tensor([5, 1])\n",
      "indexdiff: tensor([5, 1])\n",
      "indexdiff: tensor([5, 1])\n",
      "indexdiff: tensor([5, 1])\n",
      "indexdiff: tensor([5, 1])\n",
      "indexdiff: tensor([5, 1])\n",
      "indexdiff: tensor([5, 1])\n",
      "indexdiff: tensor([5, 1])\n",
      "indexdiff: tensor([5, 1])\n",
      "indexdiff: tensor([5, 1])\n",
      "indexdiff: tensor([5, 1])\n",
      "indexdiff: tensor([5, 1])\n",
      "indexdiff: tensor([5, 1])\n",
      "indexdiff: tensor([5, 1])\n",
      "indexdiff: tensor([5, 1])\n",
      "indexdiff: tensor([5, 1])\n",
      "indexdiff: tensor([5, 1])\n",
      "indexdiff: tensor([5, 1])\n",
      "indexdiff: tensor([5, 1])\n",
      "indexdiff: tensor([5, 1])\n",
      "indexdiff: tensor([5, 1])\n",
      "indexdiff: tensor([5, 1])\n",
      "indexdiff: tensor([5, 1])\n",
      "indexdiff: tensor([5, 1])\n",
      "indexdiff: tensor([5, 1])\n",
      "indexdiff: tensor([5, 1])\n",
      "tensor([28,  0]) tensor([32,  0])\n",
      "indexdiff: tensor([5, 1])\n",
      "indexdiff: tensor([5, 1])\n",
      "indexdiff: tensor([5, 1])\n",
      "indexdiff: tensor([5, 1])\n",
      "indexdiff: tensor([5, 1])\n",
      "indexdiff: tensor([5, 1])\n",
      "indexdiff: tensor([5, 1])\n",
      "indexdiff: tensor([5, 1])\n",
      "indexdiff: tensor([5, 1])\n",
      "indexdiff: tensor([5, 1])\n",
      "indexdiff: tensor([5, 1])\n",
      "indexdiff: tensor([5, 1])\n",
      "indexdiff: tensor([5, 1])\n",
      "indexdiff: tensor([5, 1])\n",
      "indexdiff: tensor([5, 1])\n",
      "indexdiff: tensor([5, 1])\n",
      "indexdiff: tensor([5, 1])\n",
      "indexdiff: tensor([5, 1])\n",
      "indexdiff: tensor([5, 1])\n",
      "indexdiff: tensor([5, 1])\n",
      "indexdiff: tensor([5, 1])\n",
      "indexdiff: tensor([5, 1])\n",
      "indexdiff: tensor([5, 1])\n",
      "indexdiff: tensor([5, 1])\n",
      "indexdiff: tensor([5, 1])\n",
      "tensor([32,  0]) tensor([36,  0])\n",
      "indexdiff: tensor([5, 1])\n",
      "indexdiff: tensor([5, 1])\n",
      "indexdiff: tensor([5, 1])\n",
      "indexdiff: tensor([5, 1])\n",
      "indexdiff: tensor([5, 1])\n",
      "indexdiff: tensor([5, 1])\n",
      "indexdiff: tensor([5, 1])\n",
      "indexdiff: tensor([5, 1])\n",
      "indexdiff: tensor([5, 1])\n",
      "indexdiff: tensor([5, 1])\n",
      "indexdiff: tensor([5, 1])\n",
      "indexdiff: tensor([5, 1])\n",
      "indexdiff: tensor([5, 1])\n",
      "indexdiff: tensor([5, 1])\n",
      "indexdiff: tensor([5, 1])\n",
      "indexdiff: tensor([5, 1])\n",
      "indexdiff: tensor([5, 1])\n",
      "indexdiff: tensor([5, 1])\n",
      "indexdiff: tensor([5, 1])\n",
      "indexdiff: tensor([5, 1])\n",
      "indexdiff: tensor([5, 1])\n",
      "indexdiff: tensor([5, 1])\n",
      "indexdiff: tensor([5, 1])\n",
      "indexdiff: tensor([5, 1])\n",
      "indexdiff: tensor([5, 1])\n",
      "indexdiff: tensor([5, 1])\n",
      "indexdiff: tensor([5, 1])\n",
      "indexdiff: tensor([5, 1])\n",
      "indexdiff: tensor([5, 1])\n",
      "indexdiff: tensor([5, 1])\n",
      "indexdiff: tensor([5, 1])\n",
      "indexdiff: tensor([5, 1])\n",
      "indexdiff: tensor([5, 1])\n",
      "indexdiff: tensor([5, 1])\n",
      "indexdiff: tensor([5, 1])\n",
      "indexdiff: tensor([5, 1])\n",
      "tensor([36,  0]) tensor([[37,  2]])\n",
      "indexdiff: tensor([[2, 3]])\n"
     ]
    },
    {
     "ename": "IndexError",
     "evalue": "index 1 is out of bounds for dimension 0 with size 1",
     "output_type": "error",
     "traceback": [
      "\u001B[0;31m---------------------------------------------------------------------------\u001B[0m",
      "\u001B[0;31mIndexError\u001B[0m                                Traceback (most recent call last)",
      "\u001B[0;32m<ipython-input-214-0c408e239e87>\u001B[0m in \u001B[0;36m<module>\u001B[0;34m\u001B[0m\n\u001B[0;32m----> 1\u001B[0;31m cv_results = k_fold_cv_grid(\n\u001B[0m\u001B[1;32m      2\u001B[0m     \u001B[0mmodel_params\u001B[0m\u001B[0;34m=\u001B[0m\u001B[0mexp_model_params_iter\u001B[0m\u001B[0;34m,\u001B[0m\u001B[0;34m\u001B[0m\u001B[0;34m\u001B[0m\u001B[0m\n\u001B[1;32m      3\u001B[0m     \u001B[0mfit\u001B[0m\u001B[0;34m=\u001B[0m\u001B[0mfit_dqn_deterministic\u001B[0m\u001B[0;34m,\u001B[0m\u001B[0;34m\u001B[0m\u001B[0;34m\u001B[0m\u001B[0m\n\u001B[1;32m      4\u001B[0m     \u001B[0mtraining_params\u001B[0m\u001B[0;34m=\u001B[0m\u001B[0mexp_training_params_iter\u001B[0m\u001B[0;34m,\u001B[0m\u001B[0;34m\u001B[0m\u001B[0;34m\u001B[0m\u001B[0m\n\u001B[1;32m      5\u001B[0m     \u001B[0mdata\u001B[0m\u001B[0;34m=\u001B[0m\u001B[0mdata\u001B[0m\u001B[0;34m,\u001B[0m\u001B[0;34m\u001B[0m\u001B[0;34m\u001B[0m\u001B[0m\n",
      "\u001B[0;32m~/git_repos/git_skole/deepthermal/deepthermal/validation.py\u001B[0m in \u001B[0;36mk_fold_cv_grid\u001B[0;34m(model_params, training_params, data, val_data, fit, folds, trials, partial, verbose, get_error)\u001B[0m\n\u001B[1;32m     99\u001B[0m             \u001B[0mmodel_param_k\u001B[0m \u001B[0;34m=\u001B[0m \u001B[0mmodel_param\u001B[0m\u001B[0;34m.\u001B[0m\u001B[0mcopy\u001B[0m\u001B[0;34m(\u001B[0m\u001B[0;34m)\u001B[0m\u001B[0;34m\u001B[0m\u001B[0;34m\u001B[0m\u001B[0m\n\u001B[1;32m    100\u001B[0m             \u001B[0mmodel_instance\u001B[0m \u001B[0;34m=\u001B[0m \u001B[0mmodel_param_k\u001B[0m\u001B[0;34m.\u001B[0m\u001B[0mpop\u001B[0m\u001B[0;34m(\u001B[0m\u001B[0;34m\"model\"\u001B[0m\u001B[0;34m)\u001B[0m\u001B[0;34m(\u001B[0m\u001B[0;34m**\u001B[0m\u001B[0mmodel_param_k\u001B[0m\u001B[0;34m)\u001B[0m\u001B[0;34m\u001B[0m\u001B[0;34m\u001B[0m\u001B[0m\n\u001B[0;32m--> 101\u001B[0;31m             model_instance, loss_history_train, loss_history_val = fit(\n\u001B[0m\u001B[1;32m    102\u001B[0m                 \u001B[0mmodel\u001B[0m\u001B[0;34m=\u001B[0m\u001B[0mmodel_instance\u001B[0m\u001B[0;34m,\u001B[0m\u001B[0;34m\u001B[0m\u001B[0;34m\u001B[0m\u001B[0m\n\u001B[1;32m    103\u001B[0m                 \u001B[0;34m**\u001B[0m\u001B[0mtraining_param\u001B[0m\u001B[0;34m,\u001B[0m\u001B[0;34m\u001B[0m\u001B[0;34m\u001B[0m\u001B[0m\n",
      "\u001B[0;32m~/git_repos/git_skole/neural-reparam/neural_reparam/reinforcement_learning.py\u001B[0m in \u001B[0;36mfit_dqn_deterministic\u001B[0;34m(model, data, num_epochs, optimizer, start_state_index, get_state, choose_action, action_map, is_end_state, init, data_val, track_history, verbose, verbose_interval, learning_rate, init_weight_seed, loss_func, compute_loss, max_nan_steps, **kwargs)\u001B[0m\n\u001B[1;32m    104\u001B[0m                 \u001B[0;32mreturn\u001B[0m \u001B[0mloss\u001B[0m\u001B[0;34m\u001B[0m\u001B[0;34m\u001B[0m\u001B[0m\n\u001B[1;32m    105\u001B[0m \u001B[0;34m\u001B[0m\u001B[0m\n\u001B[0;32m--> 106\u001B[0;31m             \u001B[0moptimizer_\u001B[0m\u001B[0;34m.\u001B[0m\u001B[0mstep\u001B[0m\u001B[0;34m(\u001B[0m\u001B[0mclosure\u001B[0m\u001B[0;34m=\u001B[0m\u001B[0mclosure\u001B[0m\u001B[0;34m)\u001B[0m\u001B[0;34m\u001B[0m\u001B[0;34m\u001B[0m\u001B[0m\n\u001B[0m\u001B[1;32m    107\u001B[0m             \u001B[0mstate_index\u001B[0m \u001B[0;34m=\u001B[0m \u001B[0mnext_state_index\u001B[0m\u001B[0;34m\u001B[0m\u001B[0;34m\u001B[0m\u001B[0m\n\u001B[1;32m    108\u001B[0m         \u001B[0mtrack_history\u001B[0m\u001B[0;34m=\u001B[0m \u001B[0;32mFalse\u001B[0m\u001B[0;34m\u001B[0m\u001B[0;34m\u001B[0m\u001B[0m\n",
      "\u001B[0;32m/usr/local/lib/python3.9/site-packages/torch/optim/optimizer.py\u001B[0m in \u001B[0;36mwrapper\u001B[0;34m(*args, **kwargs)\u001B[0m\n\u001B[1;32m     86\u001B[0m                 \u001B[0mprofile_name\u001B[0m \u001B[0;34m=\u001B[0m \u001B[0;34m\"Optimizer.step#{}.step\"\u001B[0m\u001B[0;34m.\u001B[0m\u001B[0mformat\u001B[0m\u001B[0;34m(\u001B[0m\u001B[0mobj\u001B[0m\u001B[0;34m.\u001B[0m\u001B[0m__class__\u001B[0m\u001B[0;34m.\u001B[0m\u001B[0m__name__\u001B[0m\u001B[0;34m)\u001B[0m\u001B[0;34m\u001B[0m\u001B[0;34m\u001B[0m\u001B[0m\n\u001B[1;32m     87\u001B[0m                 \u001B[0;32mwith\u001B[0m \u001B[0mtorch\u001B[0m\u001B[0;34m.\u001B[0m\u001B[0mautograd\u001B[0m\u001B[0;34m.\u001B[0m\u001B[0mprofiler\u001B[0m\u001B[0;34m.\u001B[0m\u001B[0mrecord_function\u001B[0m\u001B[0;34m(\u001B[0m\u001B[0mprofile_name\u001B[0m\u001B[0;34m)\u001B[0m\u001B[0;34m:\u001B[0m\u001B[0;34m\u001B[0m\u001B[0;34m\u001B[0m\u001B[0m\n\u001B[0;32m---> 88\u001B[0;31m                     \u001B[0;32mreturn\u001B[0m \u001B[0mfunc\u001B[0m\u001B[0;34m(\u001B[0m\u001B[0;34m*\u001B[0m\u001B[0margs\u001B[0m\u001B[0;34m,\u001B[0m \u001B[0;34m**\u001B[0m\u001B[0mkwargs\u001B[0m\u001B[0;34m)\u001B[0m\u001B[0;34m\u001B[0m\u001B[0;34m\u001B[0m\u001B[0m\n\u001B[0m\u001B[1;32m     89\u001B[0m             \u001B[0;32mreturn\u001B[0m \u001B[0mwrapper\u001B[0m\u001B[0;34m\u001B[0m\u001B[0;34m\u001B[0m\u001B[0m\n\u001B[1;32m     90\u001B[0m \u001B[0;34m\u001B[0m\u001B[0m\n",
      "\u001B[0;32m/usr/local/lib/python3.9/site-packages/torch/autograd/grad_mode.py\u001B[0m in \u001B[0;36mdecorate_context\u001B[0;34m(*args, **kwargs)\u001B[0m\n\u001B[1;32m     26\u001B[0m         \u001B[0;32mdef\u001B[0m \u001B[0mdecorate_context\u001B[0m\u001B[0;34m(\u001B[0m\u001B[0;34m*\u001B[0m\u001B[0margs\u001B[0m\u001B[0;34m,\u001B[0m \u001B[0;34m**\u001B[0m\u001B[0mkwargs\u001B[0m\u001B[0;34m)\u001B[0m\u001B[0;34m:\u001B[0m\u001B[0;34m\u001B[0m\u001B[0;34m\u001B[0m\u001B[0m\n\u001B[1;32m     27\u001B[0m             \u001B[0;32mwith\u001B[0m \u001B[0mself\u001B[0m\u001B[0;34m.\u001B[0m\u001B[0m__class__\u001B[0m\u001B[0;34m(\u001B[0m\u001B[0;34m)\u001B[0m\u001B[0;34m:\u001B[0m\u001B[0;34m\u001B[0m\u001B[0;34m\u001B[0m\u001B[0m\n\u001B[0;32m---> 28\u001B[0;31m                 \u001B[0;32mreturn\u001B[0m \u001B[0mfunc\u001B[0m\u001B[0;34m(\u001B[0m\u001B[0;34m*\u001B[0m\u001B[0margs\u001B[0m\u001B[0;34m,\u001B[0m \u001B[0;34m**\u001B[0m\u001B[0mkwargs\u001B[0m\u001B[0;34m)\u001B[0m\u001B[0;34m\u001B[0m\u001B[0;34m\u001B[0m\u001B[0m\n\u001B[0m\u001B[1;32m     29\u001B[0m         \u001B[0;32mreturn\u001B[0m \u001B[0mcast\u001B[0m\u001B[0;34m(\u001B[0m\u001B[0mF\u001B[0m\u001B[0;34m,\u001B[0m \u001B[0mdecorate_context\u001B[0m\u001B[0;34m)\u001B[0m\u001B[0;34m\u001B[0m\u001B[0;34m\u001B[0m\u001B[0m\n\u001B[1;32m     30\u001B[0m \u001B[0;34m\u001B[0m\u001B[0m\n",
      "\u001B[0;32m/usr/local/lib/python3.9/site-packages/torch/optim/lbfgs.py\u001B[0m in \u001B[0;36mstep\u001B[0;34m(self, closure)\u001B[0m\n\u001B[1;32m    309\u001B[0m \u001B[0;34m\u001B[0m\u001B[0m\n\u001B[1;32m    310\u001B[0m         \u001B[0;31m# evaluate initial f(x) and df/dx\u001B[0m\u001B[0;34m\u001B[0m\u001B[0;34m\u001B[0m\u001B[0m\n\u001B[0;32m--> 311\u001B[0;31m         \u001B[0morig_loss\u001B[0m \u001B[0;34m=\u001B[0m \u001B[0mclosure\u001B[0m\u001B[0;34m(\u001B[0m\u001B[0;34m)\u001B[0m\u001B[0;34m\u001B[0m\u001B[0;34m\u001B[0m\u001B[0m\n\u001B[0m\u001B[1;32m    312\u001B[0m         \u001B[0mloss\u001B[0m \u001B[0;34m=\u001B[0m \u001B[0mfloat\u001B[0m\u001B[0;34m(\u001B[0m\u001B[0morig_loss\u001B[0m\u001B[0;34m)\u001B[0m\u001B[0;34m\u001B[0m\u001B[0;34m\u001B[0m\u001B[0m\n\u001B[1;32m    313\u001B[0m         \u001B[0mcurrent_evals\u001B[0m \u001B[0;34m=\u001B[0m \u001B[0;36m1\u001B[0m\u001B[0;34m\u001B[0m\u001B[0;34m\u001B[0m\u001B[0m\n",
      "\u001B[0;32m/usr/local/lib/python3.9/site-packages/torch/autograd/grad_mode.py\u001B[0m in \u001B[0;36mdecorate_context\u001B[0;34m(*args, **kwargs)\u001B[0m\n\u001B[1;32m     26\u001B[0m         \u001B[0;32mdef\u001B[0m \u001B[0mdecorate_context\u001B[0m\u001B[0;34m(\u001B[0m\u001B[0;34m*\u001B[0m\u001B[0margs\u001B[0m\u001B[0;34m,\u001B[0m \u001B[0;34m**\u001B[0m\u001B[0mkwargs\u001B[0m\u001B[0;34m)\u001B[0m\u001B[0;34m:\u001B[0m\u001B[0;34m\u001B[0m\u001B[0;34m\u001B[0m\u001B[0m\n\u001B[1;32m     27\u001B[0m             \u001B[0;32mwith\u001B[0m \u001B[0mself\u001B[0m\u001B[0;34m.\u001B[0m\u001B[0m__class__\u001B[0m\u001B[0;34m(\u001B[0m\u001B[0;34m)\u001B[0m\u001B[0;34m:\u001B[0m\u001B[0;34m\u001B[0m\u001B[0;34m\u001B[0m\u001B[0m\n\u001B[0;32m---> 28\u001B[0;31m                 \u001B[0;32mreturn\u001B[0m \u001B[0mfunc\u001B[0m\u001B[0;34m(\u001B[0m\u001B[0;34m*\u001B[0m\u001B[0margs\u001B[0m\u001B[0;34m,\u001B[0m \u001B[0;34m**\u001B[0m\u001B[0mkwargs\u001B[0m\u001B[0;34m)\u001B[0m\u001B[0;34m\u001B[0m\u001B[0;34m\u001B[0m\u001B[0m\n\u001B[0m\u001B[1;32m     29\u001B[0m         \u001B[0;32mreturn\u001B[0m \u001B[0mcast\u001B[0m\u001B[0;34m(\u001B[0m\u001B[0mF\u001B[0m\u001B[0;34m,\u001B[0m \u001B[0mdecorate_context\u001B[0m\u001B[0;34m)\u001B[0m\u001B[0;34m\u001B[0m\u001B[0;34m\u001B[0m\u001B[0m\n\u001B[1;32m     30\u001B[0m \u001B[0;34m\u001B[0m\u001B[0m\n",
      "\u001B[0;32m~/git_repos/git_skole/neural-reparam/neural_reparam/reinforcement_learning.py\u001B[0m in \u001B[0;36mclosure\u001B[0;34m()\u001B[0m\n\u001B[1;32m     97\u001B[0m                 \u001B[0;32mwith\u001B[0m \u001B[0mtorch\u001B[0m\u001B[0;34m.\u001B[0m\u001B[0mno_grad\u001B[0m\u001B[0;34m(\u001B[0m\u001B[0;34m)\u001B[0m\u001B[0;34m:\u001B[0m\u001B[0;34m\u001B[0m\u001B[0;34m\u001B[0m\u001B[0m\n\u001B[1;32m     98\u001B[0m                     \u001B[0mQ_next_est\u001B[0m \u001B[0;34m=\u001B[0m \u001B[0mtorch\u001B[0m\u001B[0;34m.\u001B[0m\u001B[0mmin\u001B[0m\u001B[0;34m(\u001B[0m\u001B[0mmodel\u001B[0m\u001B[0;34m(\u001B[0m\u001B[0mnext_state\u001B[0m\u001B[0;34m)\u001B[0m\u001B[0;34m)\u001B[0m\u001B[0;34m\u001B[0m\u001B[0;34m\u001B[0m\u001B[0m\n\u001B[0;32m---> 99\u001B[0;31m                     \u001B[0mQ_est\u001B[0m \u001B[0;34m=\u001B[0m \u001B[0mQ_next_est\u001B[0m \u001B[0;34m+\u001B[0m \u001B[0mr_cost\u001B[0m\u001B[0;34m(\u001B[0m\u001B[0mstate_index\u001B[0m\u001B[0;34m=\u001B[0m\u001B[0mstate_index\u001B[0m\u001B[0;34m,\u001B[0m \u001B[0mnext_state_index\u001B[0m\u001B[0;34m=\u001B[0m\u001B[0mnext_state_index\u001B[0m\u001B[0;34m,\u001B[0m \u001B[0mdata\u001B[0m\u001B[0;34m=\u001B[0m\u001B[0mdata\u001B[0m\u001B[0;34m)\u001B[0m\u001B[0;34m\u001B[0m\u001B[0;34m\u001B[0m\u001B[0m\n\u001B[0m\u001B[1;32m    100\u001B[0m \u001B[0;34m\u001B[0m\u001B[0m\n\u001B[1;32m    101\u001B[0m                 \u001B[0;31m# would not need abs here but sometimes it goes negative\u001B[0m\u001B[0;34m\u001B[0m\u001B[0;34m\u001B[0m\u001B[0m\n",
      "\u001B[0;32m~/git_repos/git_skole/neural-reparam/neural_reparam/reinforcement_learning.py\u001B[0m in \u001B[0;36mr_cost\u001B[0;34m(state_index, next_state_index, data)\u001B[0m\n\u001B[1;32m    152\u001B[0m     \u001B[0mindex_diff\u001B[0m \u001B[0;34m=\u001B[0m \u001B[0;36m1\u001B[0m \u001B[0;34m+\u001B[0m \u001B[0mnext_state_index\u001B[0m \u001B[0;34m-\u001B[0m \u001B[0mstate_index\u001B[0m\u001B[0;34m\u001B[0m\u001B[0;34m\u001B[0m\u001B[0m\n\u001B[1;32m    153\u001B[0m     \u001B[0mprint\u001B[0m\u001B[0;34m(\u001B[0m\u001B[0;34m\"indexdiff:\"\u001B[0m\u001B[0;34m,\u001B[0m \u001B[0mindex_diff\u001B[0m\u001B[0;34m)\u001B[0m\u001B[0;34m\u001B[0m\u001B[0;34m\u001B[0m\u001B[0m\n\u001B[0;32m--> 154\u001B[0;31m     \u001B[0mgcd\u001B[0m \u001B[0;34m=\u001B[0m \u001B[0mtorch\u001B[0m\u001B[0;34m.\u001B[0m\u001B[0mgcd\u001B[0m\u001B[0;34m(\u001B[0m\u001B[0mindex_diff\u001B[0m\u001B[0;34m[\u001B[0m\u001B[0;36m0\u001B[0m\u001B[0;34m]\u001B[0m\u001B[0;34m,\u001B[0m \u001B[0mindex_diff\u001B[0m\u001B[0;34m[\u001B[0m\u001B[0;36m1\u001B[0m\u001B[0;34m]\u001B[0m\u001B[0;34m)\u001B[0m\u001B[0;34m\u001B[0m\u001B[0;34m\u001B[0m\u001B[0m\n\u001B[0m\u001B[1;32m    155\u001B[0m     \u001B[0mlen_longest_subseq\u001B[0m \u001B[0;34m=\u001B[0m \u001B[0mindex_diff\u001B[0m\u001B[0;34m[\u001B[0m\u001B[0;36m0\u001B[0m\u001B[0;34m]\u001B[0m \u001B[0;34m//\u001B[0m \u001B[0mgcd\u001B[0m \u001B[0;34m*\u001B[0m \u001B[0mindex_diff\u001B[0m\u001B[0;34m[\u001B[0m\u001B[0;36m1\u001B[0m\u001B[0;34m]\u001B[0m \u001B[0;34m//\u001B[0m \u001B[0mgcd\u001B[0m\u001B[0;34m\u001B[0m\u001B[0;34m\u001B[0m\u001B[0m\n\u001B[1;32m    156\u001B[0m \u001B[0;34m\u001B[0m\u001B[0m\n",
      "\u001B[0;31mIndexError\u001B[0m: index 1 is out of bounds for dimension 0 with size 1"
     ]
    }
   ],
   "source": [
    "cv_results = k_fold_cv_grid(\n",
    "    model_params=exp_model_params_iter,\n",
    "    fit=fit_dqn_deterministic,\n",
    "    training_params=exp_training_params_iter,\n",
    "    data=data,\n",
    "    folds=FOLDS,\n",
    "    verbose=True,\n",
    "    trials=5\n",
    ")"
   ]
  },
  {
   "cell_type": "code",
   "execution_count": null,
   "metadata": {
    "pycharm": {
     "name": "#%%\n"
    }
   },
   "outputs": [],
   "source": [
    "# plotting\n",
    "\n",
    "x_train_ = x_train.detach()\n",
    "x_sorted, indices = torch.sort(x_train_, dim=0)\n",
    "plot_kwargs = {\n",
    "    \"x_test\": x_sorted,\n",
    "    \"x_train\": x_sorted,\n",
    "    \"y_train\": c1.ksi(x_sorted),\n",
    "    \"x_axis\": \"t\",\n",
    "    \"y_axis\": \"$\\\\varphi(t)$\",\n",
    "    \"compare_label\": \"Analytical solution\"\n",
    "}\n",
    "plot_result(\n",
    "    path_figures=PATH_FIGURES,\n",
    "    **cv_results,\n",
    "    plot_function=plot_model_1d,\n",
    "    function_kwargs=plot_kwargs,\n",
    ")"
   ]
  },
  {
   "cell_type": "code",
   "execution_count": null,
   "metadata": {
    "pycharm": {
     "name": "#%%\n"
    }
   },
   "outputs": [],
   "source": [
    "\n",
    "\n",
    "models = cv_results[\"models\"]\n",
    "\n",
    "parameters = np.vectorize(lambda model: sum(p.numel() for p in model.parameters()))(models).flatten()\n",
    "model_type = np.vectorize(str)(models).flatten()\n",
    "layers = np.vectorize(lambda model: model.n_hidden_layers)(models).flatten()\n",
    "neurons = np.vectorize(lambda model: model.neurons)(models).flatten()\n",
    "# loss_array = np.vectorize(lambda model: no_penalty_loss_func(model, x_train, q_train).detach())(models).flatten()\n",
    "\n",
    "kernel_size = np.vectorize(lambda model: model.kernel_size if isinstance(model, CNN) else 0)(models).flatten()\n",
    "\n",
    "# make data frame\n",
    "d_results = pd.DataFrame(\n",
    "    {\"loss\": loss_array, \"neurons\": neurons, \"layers\": layers, \"parameters\": parameters, \"model\": model_type,\n",
    "     \"kernel_size\": kernel_size})\n",
    "\n",
    "d_results_layer = d_results[d_results.neurons == 8]\n",
    "d_results_neurons = d_results[d_results.layers == 2]"
   ]
  },
  {
   "cell_type": "code",
   "execution_count": null,
   "metadata": {
    "pycharm": {
     "name": "#%%\n"
    }
   },
   "outputs": [],
   "source": [
    "fig_neurons = sns.lineplot(data=d_results_neurons, y=\"loss\", x=\"neurons\", hue=\"model\", ci=80, err_style=\"bars\")\n",
    "fig_neurons.set(xscale=\"log\", yscale=\"log\", xlabel=\"Neurons\")\n",
    "fig_neurons.set(ylabel=\"$E$\")\n",
    "plt.savefig(f\"{PATH_FIGURES}/neurons_error.pdf\")\n",
    "plt.show()\n"
   ]
  },
  {
   "cell_type": "code",
   "execution_count": null,
   "metadata": {
    "pycharm": {
     "name": "#%%\n"
    }
   },
   "outputs": [],
   "source": [
    "print(\"faled, total:\")\n",
    "print(len(d_results_neurons[d_results_neurons.loss > 1]), len(d_results_neurons))"
   ]
  },
  {
   "cell_type": "code",
   "execution_count": null,
   "metadata": {
    "pycharm": {
     "name": "#%%\n"
    }
   },
   "outputs": [],
   "source": [
    "fig_layers = sns.lineplot(data=d_results_layer, y=\"loss\", x=\"layers\", hue=\"model\", ci=80, err_style=\"bars\")\n",
    "fig_layers.set(yscale=\"log\", xscale=\"log\", xlabel=\"Hidden layers\", ylabel=\"Error\")\n",
    "fig_layers.set(ylabel=\"$E$\")\n",
    "plt.savefig(f\"{PATH_FIGURES}/layer_error.pdf\")\n",
    "plt.show()\n"
   ]
  },
  {
   "cell_type": "code",
   "execution_count": null,
   "metadata": {
    "pycharm": {
     "name": "#%%\n"
    }
   },
   "outputs": [],
   "source": [
    "print(\"faled, total:\")\n",
    "print(len(d_results_layer[d_results_layer.loss\n",
    "                          > 1]), len(d_results_layer))"
   ]
  },
  {
   "cell_type": "code",
   "execution_count": null,
   "metadata": {
    "pycharm": {
     "name": "#%%\n"
    }
   },
   "outputs": [],
   "source": [
    "fig_scatter = sns.scatterplot(data=d_results, y=\"loss\", x=\"parameters\", hue=\"model\")\n",
    "fig_neurons.set(ylabel=\"$E$\")\n",
    "fig_scatter.set(yscale=\"log\")\n",
    "plt.show()"
   ]
  },
  {
   "cell_type": "code",
   "execution_count": null,
   "metadata": {
    "pycharm": {
     "name": "#%%\n"
    }
   },
   "outputs": [],
   "source": [
    "print(len(d_results[d_results.loss < 10]), len(d_results))"
   ]
  },
  {
   "cell_type": "code",
   "execution_count": null,
   "outputs": [],
   "source": [
    "d_results.to_csv(f\"{PATH_FIGURES}/d_results.csv\")\n"
   ],
   "metadata": {
    "collapsed": false,
    "pycharm": {
     "name": "#%%\n"
    }
   }
  },
  {
   "cell_type": "code",
   "execution_count": null,
   "outputs": [],
   "source": [
    "d_results"
   ],
   "metadata": {
    "collapsed": false,
    "pycharm": {
     "name": "#%%\n"
    }
   }
  },
  {
   "cell_type": "code",
   "execution_count": null,
   "outputs": [],
   "source": [],
   "metadata": {
    "collapsed": false,
    "pycharm": {
     "name": "#%%resnet_small.std(resnet_large.mean()\n"
    }
   }
  },
  {
   "cell_type": "code",
   "execution_count": null,
   "outputs": [],
   "source": [],
   "metadata": {
    "collapsed": false,
    "pycharm": {
     "name": "#%%\n"
    }
   }
  }
 ],
 "metadata": {
  "kernelspec": {
   "display_name": "Python 3",
   "language": "python",
   "name": "python3"
  },
  "language_info": {
   "codemirror_mode": {
    "name": "ipython",
    "version": 3
   },
   "file_extension": ".py",
   "mimetype": "text/x-python",
   "name": "python",
   "nbconvert_exporter": "python",
   "pygments_lexer": "ipython3",
   "version": "3.9.9"
  }
 },
 "nbformat": 4,
 "nbformat_minor": 1
}