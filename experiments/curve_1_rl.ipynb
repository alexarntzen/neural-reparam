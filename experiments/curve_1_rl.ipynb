{
 "cells": [
  {
   "cell_type": "code",
   "execution_count": null,
   "metadata": {
    "pycharm": {
     "name": "#%%\n"
    }
   },
   "outputs": [],
   "source": [
    "%load_ext autoreload\n",
    "%autoreload 2"
   ]
  },
  {
   "cell_type": "code",
   "execution_count": null,
   "metadata": {
    "collapsed": true,
    "pycharm": {
     "name": "#%%\n"
    }
   },
   "outputs": [],
   "source": [
    "import os\n",
    "from itertools import chain\n",
    "import torch\n",
    "from torch.utils.data import TensorDataset\n",
    "import matplotlib.pyplot as plt\n",
    "import seaborn as sns\n",
    "import numpy as np\n",
    "import pandas as pd\n",
    "from matplotlib_inline.backend_inline import set_matplotlib_formats\n",
    "\n",
    "set_matplotlib_formats('pdf', 'svg')\n",
    "\n",
    "from deepthermal.FFNN_model import fit_FFNN, FFNN, init_xavier\n",
    "from deepthermal.validation import create_subdictionary_iterator, k_fold_cv_grid, add_dictionary_iterators\n",
    "from deepthermal.plotting import plot_result, plot_model_1d\n",
    "\n",
    "from neural_reparam.reparametrization import (\n",
    "    get_elastic_metric_loss,\n",
    "    compute_loss_reparam,\n",
    ")\n",
    "from neural_reparam.ResNet import ResNet\n",
    "from neural_reparam.models import ResCNN, BResCNN, CNN\n",
    "from neural_reparam.reparam_env import  get_state, is_end_state, get_epsilon_greedy, get_action_map, get_optimal_path, plot_solution, Env\n",
    "from neural_reparam.reinforcement_learning import fit_dqn_deterministic\n",
    "\n",
    "import experiments.curves as c1\n",
    "\n",
    "# make reproducible\n",
    "seed = torch.manual_seed(0)"
   ]
  },
  {
   "cell_type": "code",
   "execution_count": null,
   "metadata": {
    "collapsed": false,
    "pycharm": {
     "name": "#%%\n"
    }
   },
   "outputs": [],
   "source": [
    "# Load data\n",
    "N =32\n",
    "\n",
    "x_train = torch.linspace(0,1 , N, requires_grad=True)\n",
    "q_train = c1.q(x_train.unsqueeze(1).detach())\n",
    "r_train = c1.r(x_train.unsqueeze(1).detach())\n",
    "\n",
    "data = TensorDataset(x_train, q_train, r_train)\n"
   ]
  },
  {
   "cell_type": "code",
   "execution_count": null,
   "metadata": {
    "collapsed": false,
    "pycharm": {
     "name": "#%%\n"
    }
   },
   "outputs": [],
   "source": [
    "0######\n",
    "DIR = \"../figures/curve_1/\"\n",
    "SET_NAME = \"conv_3\"\n",
    "PATH_FIGURES = os.path.join(DIR, SET_NAME)\n",
    "if not os.path.exists(PATH_FIGURES):\n",
    "    os.makedirs(PATH_FIGURES)\n",
    "########\n",
    "\n",
    "\n",
    "FOLDS = 1\n",
    "# loss_func = get_elastic_metric_loss(r=c1.r, constrain_cost=1e3, verbose=False)\n",
    "# no_penalty_loss_func = get_elastic_metric_loss(r=c1.r, constrain_cost=0, verbose=False)\n",
    "depth = 3\n",
    "env = Env(depth=depth, data=data)\n",
    "num_actions = env.num_actions\n",
    "action_map = env.action_map\n",
    "MODEL_PARAMS = {\n",
    "    \"model\": [ResNet],\n",
    "    \"input_dimension\": [2],\n",
    "    \"output_dimension\": [num_actions],\n",
    "    \"activation\": [\"relu\"],\n",
    "    \"n_hidden_layers\": [2],\n",
    "}\n",
    "\n",
    "# extend the previous dict with the zip of this\n",
    "MODEL_PARAMS_EXPERIMENT = {\n",
    "    \"neurons\": [32],\n",
    "}\n",
    "TRAINING_PARAMS = {\n",
    "    \"env\": [env],\n",
    "    \"batch_size\": [N**2//2],\n",
    "    \"start_state_index\": [torch.LongTensor([0, 0])],\n",
    "    \"get_state\": [get_state],\n",
    "    \"choose_action\": [get_epsilon_greedy(epsilon=0.1, num_actions=num_actions)],\n",
    "    \"action_map\": [action_map],\n",
    "    \"is_end_state\": [is_end_state],\n",
    "    \"C\": [5],\n",
    "    \"memory_size\": [N**2],\n",
    "    \"DDQN\" : [True],\n",
    "}\n",
    "# extend the previous dict with the zip of this\n",
    "TRAINING_PARAMS_EXPERIMENT = {\n",
    "    \"optimizer\": [\"ADAM\"],\n",
    "    \"num_epochs\": [300],\n",
    "    \"verbose_interval\": [30],\n",
    "    \"learning_rate\": [0.1],\n",
    "}"
   ]
  },
  {
   "cell_type": "code",
   "execution_count": null,
   "metadata": {
    "collapsed": false,
    "pycharm": {
     "name": "#%%\n"
    }
   },
   "outputs": [],
   "source": [
    "# create iterators\n",
    "model_params_iter_1 = create_subdictionary_iterator(MODEL_PARAMS)\n",
    "# model_params_iter = chain.from_iterable((model_params_iter_1, model_params_iter_2))\n",
    "\n",
    "model_exp_iter = create_subdictionary_iterator(MODEL_PARAMS_EXPERIMENT, product=False)\n",
    "exp_model_params_iter = add_dictionary_iterators(model_exp_iter, model_params_iter_1)\n",
    "\n",
    "training_params_iter = create_subdictionary_iterator(TRAINING_PARAMS)\n",
    "training_exp_iter = create_subdictionary_iterator(TRAINING_PARAMS_EXPERIMENT, product=False)\n",
    "exp_training_params_iter = add_dictionary_iterators(training_exp_iter, training_params_iter)"
   ]
  },
  {
   "cell_type": "markdown",
   "metadata": {},
   "source": [
    "Do the actual training"
   ]
  },
  {
   "cell_type": "code",
   "execution_count": null,
   "metadata": {
    "pycharm": {
     "name": "#%%\n"
    }
   },
   "outputs": [],
   "source": [
    "cv_results = k_fold_cv_grid(\n",
    "    model_params=exp_model_params_iter,\n",
    "    fit=fit_dqn_deterministic,\n",
    "    training_params=exp_training_params_iter,\n",
    "    data=data,\n",
    "    folds=FOLDS,\n",
    "    verbose=True,\n",
    "    trials=1\n",
    ")"
   ]
  },
  {
   "cell_type": "code",
   "execution_count": null,
   "metadata": {
    "collapsed": false,
    "pycharm": {
     "name": "#%%\n"
    }
   },
   "outputs": [],
   "source": [
    "model = cv_results[\"models\"][0][0]\n",
    "with torch.no_grad():\n",
    "    ksi = c1.ksi\n",
    "    x_eval, *_ = data[:]\n",
    "\n",
    "    N = len(data)\n",
    "    ind = torch.tensor(np.indices((N, N)).T)\n",
    "    grid = x_eval[ind]\n",
    "\n",
    "    cost_matrix = torch.min(model(grid.float()).detach(), dim=-1)[0]\n",
    "    indexes = get_optimal_path(q_model=model, action_map=action_map, data=data)\n",
    "\n",
    "    fig, ax = plt.subplots(1)\n",
    "    plot = ax.imshow(cost_matrix, extent=[0,1,0,1], origin=\"lower\")\n",
    "    plt.colorbar(plot)\n",
    "\n",
    "    ax.scatter(x_eval[indexes[:, 0]], x_eval[indexes[:,1]],label=\"DQN\")\n",
    "    ksi_eval = ksi(x_eval.unsqueeze(1))\n",
    "    ax.plot(x_eval, ksi_eval, label = \"true\")\n",
    "    plt.legend()\n",
    "\n",
    "    plt.show()\n",
    "    cost_matrix = torch.argmin(model(grid.float()).detach(), dim=-1)\n",
    "    indexes = get_optimal_path(q_model=model, action_map=action_map, data=data)\n",
    "\n",
    "    fig, ax = plt.subplots(1)\n",
    "    plot = ax.imshow(cost_matrix, extent=[0,1,0,1], origin=\"lower\")\n",
    "    plt.colorbar(plot)\n",
    "\n",
    "    ax.scatter(x_eval[indexes[:, 0]], x_eval[indexes[:,1]],label=\"DQN\")\n",
    "    ksi_eval = ksi(x_eval.unsqueeze(1))\n",
    "    ax.plot(x_eval, ksi_eval, label = \"true\")\n",
    "    plt.legend()\n",
    "\n",
    "    plt.show()"
   ]
  },
  {
   "cell_type": "code",
   "execution_count": null,
   "metadata": {},
   "outputs": [],
   "source": []
  },
  {
   "cell_type": "code",
   "execution_count": null,
   "metadata": {},
   "outputs": [],
   "source": []
  },
  {
   "cell_type": "code",
   "execution_count": null,
   "metadata": {},
   "outputs": [],
   "source": []
  }
 ],
 "metadata": {
  "kernelspec": {
   "display_name": "Python 3",
   "language": "python",
   "name": "python3"
  },
  "language_info": {
   "codemirror_mode": {
    "name": "ipython",
    "version": 3
   },
   "file_extension": ".py",
   "mimetype": "text/x-python",
   "name": "python",
   "nbconvert_exporter": "python",
   "pygments_lexer": "ipython3",
   "version": "3.9.10"
  }
 },
 "nbformat": 4,
 "nbformat_minor": 1
}
