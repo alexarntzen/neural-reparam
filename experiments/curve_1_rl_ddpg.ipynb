{
 "cells": [
  {
   "cell_type": "code",
   "execution_count": null,
   "metadata": {},
   "outputs": [],
   "source": [
    "%load_ext autoreload\n",
    "%autoreload 2"
   ]
  },
  {
   "cell_type": "code",
   "execution_count": null,
   "metadata": {},
   "outputs": [],
   "source": [
    "import os\n",
    "from itertools import chain\n",
    "import torch\n",
    "from torch.utils.data import TensorDataset\n",
    "import matplotlib.pyplot as plt\n",
    "import seaborn as sns\n",
    "import numpy as np\n",
    "import pandas as pd\n",
    "from matplotlib_inline.backend_inline import set_matplotlib_formats\n",
    "\n",
    "set_matplotlib_formats(\"pdf\", \"svg\")\n",
    "\n",
    "from deepthermal.FFNN_model import fit_FFNN, FFNN, init_xavier\n",
    "from deepthermal.validation import (\n",
    "    create_subdictionary_iterator,\n",
    "    k_fold_cv_grid,\n",
    "    add_dictionary_iterators,\n",
    ")\n",
    "from deepthermal.plotting import plot_result, plot_model_1d\n",
    "\n",
    "from neural_reparam.reparametrization import (\n",
    "    get_elastic_metric_loss,\n",
    "    compute_loss_reparam,\n",
    ")\n",
    "from neural_reparam.ResNet import ResNet\n",
    "from neural_reparam.models import ResCNN, BResCNN, CNN\n",
    "from neural_reparam.reparam_env import (\n",
    "    get_epsilon_greedy,\n",
    "    get_optimal_path,\n",
    "    DiscreteReparamEnv,\n",
    "    plot_solution_rl,\n",
    "    DiscreteReparamReverseEnv,\n",
    ")\n",
    "from neural_reparam.reinforcement_learning import fit_dqn_deterministic\n",
    "from neural_reparam.reparam_env import RealReparamEnv\n",
    "\n",
    "import experiments.curves as c1\n",
    "import experiments.curves_2 as c2\n",
    "from signatureshape.so3.dynamic_distance import find_optimal_diffeomorphism\n",
    "import spinup\n",
    "\n",
    "# make reproducible\n",
    "seed = torch.manual_seed(0)"
   ]
  },
  {
   "cell_type": "code",
   "execution_count": null,
   "metadata": {},
   "outputs": [],
   "source": [
    "N = 16\n",
    "ac = spinup.ddpg_pytorch(\n",
    "    lambda: RealReparamEnv(r_func=c1.r, q_func=c1.q, size=N, action_penalty=1),\n",
    "    steps_per_epoch=3000,\n",
    "    epochs=50,\n",
    "    replay_size=int(1e4),\n",
    "    gamma=1,\n",
    "    polyak=0.5,\n",
    "    pi_lr=0.1,\n",
    "    q_lr=0.1,\n",
    "    batch_size=100,\n",
    "    start_steps=2000,\n",
    "    update_after=1000,\n",
    "    update_every=10,\n",
    "    act_noise=0.1,\n",
    "    num_test_episodes=1,\n",
    "    max_ep_len=N**2,\n",
    "    save_freq=1,\n",
    ")"
   ]
  },
  {
   "cell_type": "code",
   "execution_count": null,
   "metadata": {},
   "outputs": [],
   "source": []
  },
  {
   "cell_type": "code",
   "execution_count": null,
   "metadata": {},
   "outputs": [],
   "source": [
    "x_train = torch.linspace(0, 1, N, requires_grad=True)\n",
    "q_train = c1.q(x_train.unsqueeze(1).detach())\n",
    "r_train = c1.r(x_train.unsqueeze(1).detach())\n",
    "\n",
    "data = TensorDataset(x_train, q_train, r_train)\n",
    "\n",
    "size = len(x_train)\n",
    "ind = torch.as_tensor(np.indices((size, size)).T)\n",
    "\n",
    "grid = x_train[ind]\n",
    "q_values = torch.zeros(N, N)\n",
    "# for\n",
    "# print(ac.q.(grid))\n",
    "for i in range(N):\n",
    "    for j in range(N):\n",
    "        q_values[i, j] = ac.q(\n",
    "            obs=torch.tensor([i, j]).float(), act=torch.tensor([0.5, 0.5]).float()\n",
    "        )\n",
    "plt.imshow(q_values.detach().numpy())\n",
    "q_values[0, 0], q_values[N - 1, N - 1]"
   ]
  }
 ],
 "metadata": {
  "kernelspec": {
   "display_name": "Python 3",
   "language": "python",
   "name": "python3"
  },
  "language_info": {
   "codemirror_mode": {
    "name": "ipython",
    "version": 3
   },
   "file_extension": ".py",
   "mimetype": "text/x-python",
   "name": "python",
   "nbconvert_exporter": "python",
   "pygments_lexer": "ipython3"
  }
 },
 "nbformat": 4,
 "nbformat_minor": 1
}
